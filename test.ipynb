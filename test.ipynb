{
 "cells": [
  {
   "cell_type": "code",
   "execution_count": 37,
   "metadata": {},
   "outputs": [
    {
     "ename": "SyntaxError",
     "evalue": "invalid syntax (<ipython-input-37-441e44f17478>, line 1)",
     "output_type": "error",
     "traceback": [
      "\u001b[1;36m  File \u001b[1;32m\"<ipython-input-37-441e44f17478>\"\u001b[1;36m, line \u001b[1;32m1\u001b[0m\n\u001b[1;33m    https://www.youtube.com/watch?v=LuqvJbDxgig&ab_channel=OrchardForex\u001b[0m\n\u001b[1;37m           ^\u001b[0m\n\u001b[1;31mSyntaxError\u001b[0m\u001b[1;31m:\u001b[0m invalid syntax\n"
     ]
    }
   ],
   "source": [
    "https://www.youtube.com/watch?v=LuqvJbDxgig&ab_channel=OrchardForex"
   ]
  },
  {
   "cell_type": "code",
   "execution_count": null,
   "metadata": {},
   "outputs": [],
   "source": [
    "import MetaTrader5 as mt\n",
    "from datetime import datetime"
   ]
  },
  {
   "cell_type": "code",
   "execution_count": null,
   "metadata": {},
   "outputs": [
    {
     "data": {
      "text/plain": [
       "0.25"
      ]
     },
     "execution_count": 4,
     "metadata": {},
     "output_type": "execute_result"
    }
   ],
   "source": [
    "point = mt.symbol_info(\"XAUUSD.r\").point\n",
    "point*25\n"
   ]
  },
  {
   "cell_type": "code",
   "execution_count": null,
   "metadata": {},
   "outputs": [
    {
     "data": {
      "text/plain": [
       "True"
      ]
     },
     "execution_count": 2,
     "metadata": {},
     "output_type": "execute_result"
    }
   ],
   "source": [
    "mt.initialize()\n",
    "# login =75512779\n",
    "login=220010\n",
    "# password=\"!hZlR7Zn\"\n",
    "password=\"5oPbYnF@\"\n",
    "server=\"ArkGlobal-Server\"\n",
    "mt.login(login, password, server)\n"
   ]
  },
  {
   "cell_type": "code",
   "execution_count": null,
   "metadata": {},
   "outputs": [
    {
     "data": {
      "text/plain": [
       "True"
      ]
     },
     "execution_count": 2,
     "metadata": {},
     "output_type": "execute_result"
    }
   ],
   "source": [
    "import MT2 as mt2\n",
    "\n",
    "mt2.initialize()\n",
    "# login =75512779\n",
    "login=220010\n",
    "# password=\"!hZlR7Zn\"\n",
    "password=\"5oPbYnF@\"\n",
    "server=\"ArkGlobal-Server\"\n",
    "mt2.login(login, password, server)"
   ]
  },
  {
   "cell_type": "code",
   "execution_count": null,
   "metadata": {},
   "outputs": [],
   "source": [
    "https://github.com/TheSnowGuru/PyTrader-python-mt4-mt5-trading-api-connector-drag-n-drop"
   ]
  },
  {
   "cell_type": "code",
   "execution_count": null,
   "metadata": {},
   "outputs": [
    {
     "data": {
      "text/plain": [
       "AccountInfo(login=220010, trade_mode=2, leverage=400, limit_orders=0, margin_so_mode=0, trade_allowed=True, trade_expert=True, margin_mode=2, currency_digits=2, fifo_close=False, balance=999.0, credit=0.0, profit=0.0, equity=999.0, margin=0.0, margin_free=999.0, margin_level=0.0, margin_so_call=50.0, margin_so_so=30.0, margin_initial=0.0, margin_maintenance=0.0, assets=0.0, liabilities=0.0, commission_blocked=0.0, name='Sanjay Test SCA', server='ArkGlobal-Server', currency='USD', ...)"
      ]
     },
     "execution_count": 18,
     "metadata": {},
     "output_type": "execute_result"
    }
   ],
   "source": [
    "mt.account_info()"
   ]
  },
  {
   "cell_type": "code",
   "execution_count": null,
   "metadata": {},
   "outputs": [],
   "source": [
    "symbol=\"XAUUSD.r\"\n",
    "lot=0.25\n",
    "point = mt.symbol_info(symbol).point\n",
    "price = mt.symbol_info_tick(symbol).ask\n",
    "deviation=2\n",
    "\n",
    "request={\n",
    "    \"action\": mt.TRADE_ACTION_DEAL,\n",
    "    \"symbol\": symbol,\n",
    "    \"volume\": lot,\n",
    "    \"type\": mt.ORDER_TYPE_BUY_LIMIT,\n",
    "    \"sl\": price - 100 * point,\n",
    "    \"tp\": price + 100 * point,\n",
    "    \"price\": price,\n",
    "    \"comment\": \"python script open\",\n",
    "    \"type_time\": mt.ORDER_TIME_GTC,\n",
    "    \"type_filling\":mt.ORDER_FILLING_IOC\n",
    "    \n",
    "}\n",
    "# send a trading request\n"
   ]
  },
  {
   "cell_type": "code",
   "execution_count": null,
   "metadata": {},
   "outputs": [],
   "source": [
    "https://www.mql5.com/en/docs/python_metatrader5/mt5ordercalcmargin_py#order_type"
   ]
  },
  {
   "cell_type": "code",
   "execution_count": null,
   "metadata": {},
   "outputs": [
    {
     "ename": "AttributeError",
     "evalue": "module 'MetaTrader5' has no attribute 'TRADE_ACTION_CLOSE_BY_PRICE'",
     "output_type": "error",
     "traceback": [
      "\u001b[1;31m---------------------------------------------------------------------------\u001b[0m",
      "\u001b[1;31mAttributeError\u001b[0m                            Traceback (most recent call last)",
      "\u001b[1;32m<ipython-input-3-fd024685bfab>\u001b[0m in \u001b[0;36m<module>\u001b[1;34m\u001b[0m\n\u001b[1;32m----> 1\u001b[1;33m \u001b[0mmt\u001b[0m\u001b[1;33m.\u001b[0m\u001b[0mTRADE_ACTION_CLOSE_BY_PRICE\u001b[0m\u001b[1;33m\u001b[0m\u001b[1;33m\u001b[0m\u001b[0m\n\u001b[0m",
      "\u001b[1;31mAttributeError\u001b[0m: module 'MetaTrader5' has no attribute 'TRADE_ACTION_CLOSE_BY_PRICE'"
     ]
    }
   ],
   "source": [
    "mt.TRADE_ACTION_CLOSE_BY"
   ]
  },
  {
   "cell_type": "code",
   "execution_count": null,
   "metadata": {},
   "outputs": [
    {
     "ename": "NameError",
     "evalue": "name 'TradePosition' is not defined",
     "output_type": "error",
     "traceback": [
      "\u001b[1;31m---------------------------------------------------------------------------\u001b[0m",
      "\u001b[1;31mNameError\u001b[0m                                 Traceback (most recent call last)",
      "\u001b[1;32m<ipython-input-5-7f4c84dde8f1>\u001b[0m in \u001b[0;36m<module>\u001b[1;34m\u001b[0m\n\u001b[1;32m----> 1\u001b[1;33m \u001b[0mTradePosition\u001b[0m\u001b[1;33m(\u001b[0m\u001b[0mticket\u001b[0m\u001b[1;33m=\u001b[0m\u001b[1;36m10335942\u001b[0m\u001b[1;33m,\u001b[0m \u001b[0mtime\u001b[0m\u001b[1;33m=\u001b[0m\u001b[1;36m1698821430\u001b[0m\u001b[1;33m,\u001b[0m \u001b[0mtime_msc\u001b[0m\u001b[1;33m=\u001b[0m\u001b[1;36m1698821430998\u001b[0m\u001b[1;33m,\u001b[0m \u001b[0mtime_update\u001b[0m\u001b[1;33m=\u001b[0m\u001b[1;36m1698821430\u001b[0m\u001b[1;33m,\u001b[0m \u001b[0mtime_update_msc\u001b[0m\u001b[1;33m=\u001b[0m\u001b[1;36m1698821430998\u001b[0m\u001b[1;33m,\u001b[0m \u001b[0mtype\u001b[0m\u001b[1;33m=\u001b[0m\u001b[1;36m0\u001b[0m\u001b[1;33m,\u001b[0m \u001b[0mmagic\u001b[0m\u001b[1;33m=\u001b[0m\u001b[1;36m0\u001b[0m\u001b[1;33m,\u001b[0m \u001b[0midentifier\u001b[0m\u001b[1;33m=\u001b[0m\u001b[1;36m10335942\u001b[0m\u001b[1;33m,\u001b[0m \u001b[0mreason\u001b[0m\u001b[1;33m=\u001b[0m\u001b[1;36m3\u001b[0m\u001b[1;33m,\u001b[0m \u001b[0mvolume\u001b[0m\u001b[1;33m=\u001b[0m\u001b[1;36m0.25\u001b[0m\u001b[1;33m,\u001b[0m \u001b[0mprice_open\u001b[0m\u001b[1;33m=\u001b[0m\u001b[1;36m1981.05\u001b[0m\u001b[1;33m,\u001b[0m \u001b[0msl\u001b[0m\u001b[1;33m=\u001b[0m\u001b[1;36m1979.53\u001b[0m\u001b[1;33m,\u001b[0m \u001b[0mtp\u001b[0m\u001b[1;33m=\u001b[0m\u001b[1;36m1981.53\u001b[0m\u001b[1;33m,\u001b[0m \u001b[0mprice_current\u001b[0m\u001b[1;33m=\u001b[0m\u001b[1;36m1980.51\u001b[0m\u001b[1;33m,\u001b[0m \u001b[0mswap\u001b[0m\u001b[1;33m=\u001b[0m\u001b[1;36m0.0\u001b[0m\u001b[1;33m,\u001b[0m \u001b[0mprofit\u001b[0m\u001b[1;33m=\u001b[0m\u001b[1;33m-\u001b[0m\u001b[1;36m13.5\u001b[0m\u001b[1;33m,\u001b[0m \u001b[0msymbol\u001b[0m\u001b[1;33m=\u001b[0m\u001b[1;34m'XAUUSD.r'\u001b[0m\u001b[1;33m,\u001b[0m \u001b[0mcomment\u001b[0m\u001b[1;33m=\u001b[0m\u001b[1;34m'python script op'\u001b[0m\u001b[1;33m,\u001b[0m \u001b[0mexternal_id\u001b[0m\u001b[1;33m=\u001b[0m\u001b[1;34m''\u001b[0m\u001b[1;33m)\u001b[0m\u001b[1;33m\u001b[0m\u001b[1;33m\u001b[0m\u001b[0m\n\u001b[0m",
      "\u001b[1;31mNameError\u001b[0m: name 'TradePosition' is not defined"
     ]
    }
   ],
   "source": [
    "TradePosition(ticket=10335942, time=1698821430, time_msc=1698821430998, time_update=1698821430, time_update_msc=1698821430998, type=0, magic=0, identifier=10335942, reason=3, volume=0.25, price_open=1981.05, sl=1979.53, tp=1981.53, price_current=1980.51, swap=0.0, profit=-13.5, symbol='XAUUSD.r', comment='python script op', external_id='')"
   ]
  },
  {
   "cell_type": "code",
   "execution_count": null,
   "metadata": {},
   "outputs": [],
   "source": [
    "####################  3 NOV 2023###########\n",
    "\n",
    "import MetaTrader5 as mt\n",
    "from datetime import datetime\n",
    "import time\n",
    "\n",
    "mt.initialize()\n",
    "login=6060502347\n",
    "password=\"V@DlJd3d\"\n",
    "server=\"ArkGlobal-Server\"\n",
    "mt.login(login, password, server)\n",
    "\n",
    "\n",
    "def task():\n",
    "    \n",
    "    symbol=\"XAUUSD.r\"\n",
    "    lot=0.5\n",
    "    point = mt.symbol_info(symbol).point\n",
    "    price = mt.symbol_info_tick(symbol).bid\n",
    "    deviation=0.25\n",
    "    p=45\n",
    "\n",
    "    print(price,point)\n",
    "\n",
    "    request_buy={\n",
    "        \"action\": mt.TRADE_ACTION_PENDING,\n",
    "        \"symbol\": symbol,\n",
    "        \"volume\": lot,\n",
    "        \"type\": mt.ORDER_TYPE_BUY_LIMIT,\n",
    "        \"sl\": price - p * point,\n",
    "        \"tp\": price + p * point,\n",
    "        \"price\": price-deviation,\n",
    "        \"comment\": \"python script open\",\n",
    "        \"type_time\": mt.ORDER_TIME_GTC,\n",
    "        \"type_filling\": mt.ORDER_FILLING_IOC,\n",
    "    }\n",
    "\n",
    "    # request_buy={\n",
    "    #     \"action\": mt.TRADE_ACTION_DEAL,\n",
    "    #     \"symbol\": symbol,\n",
    "    #     \"volume\": lot,\n",
    "    #     \"type\": mt.ORDER_TYPE_BUY,\n",
    "    #     \"sl\": price - 100 * point,\n",
    "    #     \"tp\": price + 100 * point,\n",
    "    #     \"price\": price,\n",
    "    #     \"comment\": \"python script open\",\n",
    "    #     \"type_time\": mt.ORDER_TIME_GTC,\n",
    "    #     \"type_filling\": mt.ORDER_FILLING_IOC,\n",
    "    # }\n",
    "    # send a trading request\n",
    "    result_buy=mt.order_send(request_buy)\n",
    "\n",
    "\n",
    "\n",
    "\n",
    "    # price=mt.symbol_info_tick(symbol).ask\n",
    "    price=mt.symbol_info_tick(symbol).bid\n",
    "\n",
    "    request_sell={\n",
    "        \"action\": mt.TRADE_ACTION_PENDING,\n",
    "        \"symbol\": symbol,\n",
    "        \"volume\": lot,\n",
    "        \"type\": mt.ORDER_TYPE_SELL_STOP,\n",
    "        \"sl\": price + p * point,\n",
    "        \"tp\": price - p* point,\n",
    "        \"price\": price-deviation,\n",
    "        \"comment\": \"python script open\",\n",
    "        \"type_time\": mt.ORDER_TIME_GTC,\n",
    "        \"type_filling\": mt.ORDER_FILLING_IOC,\n",
    "    }\n",
    "    # send a trading request\n",
    "    result_sell=mt.order_send(request_sell)\n",
    "\n",
    "\n",
    "\n",
    "\n",
    "    a= mt.positions_get(symbol=symbol)\n",
    "    print(result_buy)\n",
    "    print(result_sell)\n",
    "    print(mt.positions_total()) \n",
    "    print(mt.positions_get(symbol=symbol))\n",
    "\n",
    "    time.sleep(30)\n",
    "    print(mt.orders_get())\n",
    "\n",
    "\n",
    "    a=mt.orders_get(symbol=symbol)\n",
    "    list1=[]\n",
    "    for i in a:\n",
    "        ticket=i.ticket\n",
    "        list1.append(ticket)\n",
    "    \n",
    "\n",
    "    for ticket_id in list1:\n",
    "\n",
    "            request={  \n",
    "            'action':mt.TRADE_ACTION_REMOVE,                \n",
    "            'order':ticket_id\n",
    "            }\n",
    "            mt.order_send(request)\n",
    "\n",
    "\n",
    "    print(mt.positions_get(symbol=symbol))  \n",
    "\n",
    "\n",
    "\n",
    "# request.action=TRADE_ACTION_CLOSE_BY;                         \n",
    "# request.position=position_ticket;                             \n",
    "# request.position_by=PositionGetInteger(POSITION_TICKET); \n",
    "\n",
    "    def get_ticket(symbol):\n",
    "        a=mt.positions_get(symbol=symbol)\n",
    "        list1=[]\n",
    "        for i in a:\n",
    "            ticket=i.ticket\n",
    "            list1.append(ticket)\n",
    "        return ticket\n",
    "            \n",
    "\n",
    "    def remove_order_pending(symbol):  \n",
    "\n",
    "        for ticket_id in get_ticket(symbol):\n",
    "\n",
    "            request={  \n",
    "            'action':mt.TRADE_ACTION_REMOVE,                \n",
    "            'order':ticket_id\n",
    "            }\n",
    "            result=mt.order_send(request)\n",
    "            return result\n",
    "        \n",
    "    # position = mt.positions_get(symbol=symbol, ticket=ticket)\n",
    "    # print(position)\n",
    "    #         \n",
    "\n",
    "if __name__ == \"__main__\":\n",
    "     i=0\n",
    "     while True:\n",
    "        task()\n",
    "        i+=1\n",
    "        if i>30:\n",
    "            break\n"
   ]
  },
  {
   "cell_type": "code",
   "execution_count": null,
   "metadata": {},
   "outputs": [
    {
     "data": {
      "text/plain": [
       "True"
      ]
     },
     "execution_count": 5,
     "metadata": {},
     "output_type": "execute_result"
    }
   ],
   "source": [
    "import MetaTrader5 as mt\n",
    "import MT2 as mt2\n",
    "from datetime import datetime\n",
    "import time\n",
    "\n",
    "mt2.initialize(\"C:/Program Files/MetaTrader 5/terminal64.exe\")\n",
    "login=6060502348\n",
    "password=\"+cP4FbZf\"\n",
    "server=\"ArkGlobal-Server\"\n",
    "mt2.login(login, password, server)"
   ]
  },
  {
   "cell_type": "code",
   "execution_count": null,
   "metadata": {},
   "outputs": [
    {
     "name": "stdout",
     "output_type": "stream",
     "text": [
      "()\n",
      "[]\n"
     ]
    }
   ],
   "source": [
    "f=mt2.positions_get(symbol=\"XAUUSD.r\")\n",
    "print(f)\n",
    "\n",
    "list1=[]\n",
    "for i in f:\n",
    "    ticket=i.ticket\n",
    "    list1.append(ticket)\n",
    "\n",
    "print(list1)\n",
    "\n",
    "for position_ticket_id in list1:\n",
    "    mt2.Close(symbol='XAUUSD.r',ticket=position_ticket_id)"
   ]
  },
  {
   "cell_type": "code",
   "execution_count": null,
   "metadata": {},
   "outputs": [
    {
     "ename": "NameError",
     "evalue": "name 'symbol' is not defined",
     "output_type": "error",
     "traceback": [
      "\u001b[1;31m---------------------------------------------------------------------------\u001b[0m",
      "\u001b[1;31mNameError\u001b[0m                                 Traceback (most recent call last)",
      "\u001b[1;32m<ipython-input-29-06c498392bf6>\u001b[0m in \u001b[0;36m<module>\u001b[1;34m\u001b[0m\n\u001b[1;32m----> 1\u001b[1;33m \u001b[0msymbol\u001b[0m\u001b[1;33m\u001b[0m\u001b[1;33m\u001b[0m\u001b[0m\n\u001b[0m",
      "\u001b[1;31mNameError\u001b[0m: name 'symbol' is not defined"
     ]
    }
   ],
   "source": []
  },
  {
   "cell_type": "code",
   "execution_count": null,
   "metadata": {},
   "outputs": [
    {
     "data": {
      "text/plain": [
       "True"
      ]
     },
     "execution_count": 33,
     "metadata": {},
     "output_type": "execute_result"
    }
   ],
   "source": [
    "import time\n",
    "time.sleep(20)\n",
    "mt2.Close(symbol='XAUUSD.r',ticket=11872499)"
   ]
  },
  {
   "cell_type": "code",
   "execution_count": null,
   "metadata": {},
   "outputs": [
    {
     "ename": "AttributeError",
     "evalue": "module 'MT2' has no attribute 'Positions_Get_Integer'",
     "output_type": "error",
     "traceback": [
      "\u001b[1;31m---------------------------------------------------------------------------\u001b[0m",
      "\u001b[1;31mAttributeError\u001b[0m                            Traceback (most recent call last)",
      "\u001b[1;32m<ipython-input-27-c89bdee34f78>\u001b[0m in \u001b[0;36m<module>\u001b[1;34m\u001b[0m\n\u001b[1;32m----> 1\u001b[1;33m \u001b[0mmt2\u001b[0m\u001b[1;33m.\u001b[0m\u001b[0mPositions_Get_Integer\u001b[0m\u001b[1;33m(\u001b[0m\u001b[0mPOSITION_TICKET\u001b[0m\u001b[1;33m)\u001b[0m\u001b[1;33m\u001b[0m\u001b[1;33m\u001b[0m\u001b[0m\n\u001b[0m",
      "\u001b[1;31mAttributeError\u001b[0m: module 'MT2' has no attribute 'Positions_Get_Integer'"
     ]
    }
   ],
   "source": [
    "mt2.Positions_Get_Integer(POSITION_TICKET)"
   ]
  },
  {
   "cell_type": "code",
   "execution_count": null,
   "metadata": {},
   "outputs": [
    {
     "name": "stdout",
     "output_type": "stream",
     "text": [
      "0.01\n",
      "1986.61\n",
      "1986.86\n",
      "1986.1599999999999\n",
      "1987.06\n"
     ]
    }
   ],
   "source": [
    "point = mt2.symbol_info(\"XAUUSD.r\").point\n",
    "print(point)\n",
    "price=mt2.symbol_info_tick(\"XAUUSD.r\").bid\n",
    "print(price)\n",
    "deviation=0.25\n",
    "print(price+deviation)\n",
    "p=45\n",
    "\n",
    "sl=(price - p * point)\n",
    "print(sl)\n",
    "tp=(price+ p * point)\n",
    "print(tp)"
   ]
  },
  {
   "cell_type": "code",
   "execution_count": null,
   "metadata": {},
   "outputs": [
    {
     "data": {
      "text/plain": [
       "0.45"
      ]
     },
     "execution_count": 21,
     "metadata": {},
     "output_type": "execute_result"
    }
   ],
   "source": [
    "p*point"
   ]
  },
  {
   "cell_type": "code",
   "execution_count": 38,
   "metadata": {},
   "outputs": [],
   "source": [
    "from constant import path1"
   ]
  },
  {
   "cell_type": "code",
   "execution_count": 41,
   "metadata": {},
   "outputs": [
    {
     "data": {
      "text/plain": [
       "str"
      ]
     },
     "execution_count": 41,
     "metadata": {},
     "output_type": "execute_result"
    }
   ],
   "source": [
    "type(path1)"
   ]
  },
  {
   "cell_type": "code",
   "execution_count": 47,
   "metadata": {},
   "outputs": [],
   "source": [
    "import yaml\n",
    "with open('constant.yaml','r+') as f:\n",
    "    var = yaml.safe_load(f)"
   ]
  },
  {
   "cell_type": "code",
   "execution_count": 54,
   "metadata": {},
   "outputs": [
    {
     "name": "stdout",
     "output_type": "stream",
     "text": [
      "C:/Program Files/MetaTrader 5/terminal64.exe\n"
     ]
    }
   ],
   "source": [
    "from constant import *\n",
    "\n",
    "print(path1)"
   ]
  },
  {
   "cell_type": "code",
   "execution_count": 55,
   "metadata": {},
   "outputs": [],
   "source": [
    "from hedge_trade import trading_gold"
   ]
  },
  {
   "cell_type": "code",
   "execution_count": 56,
   "metadata": {},
   "outputs": [
    {
     "ename": "AttributeError",
     "evalue": "'trading_gold' object has no attribute 'login2'",
     "output_type": "error",
     "traceback": [
      "\u001b[1;31m---------------------------------------------------------------------------\u001b[0m",
      "\u001b[1;31mAttributeError\u001b[0m                            Traceback (most recent call last)",
      "\u001b[1;32m<ipython-input-56-d14e82db4f9c>\u001b[0m in \u001b[0;36m<module>\u001b[1;34m\u001b[0m\n\u001b[1;32m----> 1\u001b[1;33m \u001b[0mf\u001b[0m\u001b[1;33m=\u001b[0m\u001b[0mtrading_gold\u001b[0m\u001b[1;33m(\u001b[0m\u001b[1;33m)\u001b[0m\u001b[1;33m\u001b[0m\u001b[1;33m\u001b[0m\u001b[0m\n\u001b[0m",
      "\u001b[1;32md:\\forex_trades\\hedge_trade.py\u001b[0m in \u001b[0;36m__init__\u001b[1;34m(self, path1, path2, login1, password1, login2, password2, server, symbol, lot, deviation, perct)\u001b[0m\n\u001b[0;32m     19\u001b[0m         \u001b[0mself\u001b[0m\u001b[1;33m.\u001b[0m\u001b[0mpassword\u001b[0m\u001b[1;33m=\u001b[0m\u001b[0mpassword2\u001b[0m\u001b[1;33m\u001b[0m\u001b[1;33m\u001b[0m\u001b[0m\n\u001b[0;32m     20\u001b[0m         \u001b[0mself\u001b[0m\u001b[1;33m.\u001b[0m\u001b[0mserver\u001b[0m\u001b[1;33m=\u001b[0m\u001b[0mserver\u001b[0m\u001b[1;33m\u001b[0m\u001b[1;33m\u001b[0m\u001b[0m\n\u001b[1;32m---> 21\u001b[1;33m         \u001b[0mmt2\u001b[0m\u001b[1;33m.\u001b[0m\u001b[0mlogin\u001b[0m\u001b[1;33m(\u001b[0m\u001b[0mself\u001b[0m\u001b[1;33m.\u001b[0m\u001b[0mlogin2\u001b[0m\u001b[1;33m,\u001b[0m \u001b[0mself\u001b[0m\u001b[1;33m.\u001b[0m\u001b[0mpassword\u001b[0m\u001b[1;33m,\u001b[0m\u001b[0mself\u001b[0m\u001b[1;33m.\u001b[0m\u001b[0mserver\u001b[0m\u001b[1;33m)\u001b[0m\u001b[1;33m\u001b[0m\u001b[1;33m\u001b[0m\u001b[0m\n\u001b[0m\u001b[0;32m     22\u001b[0m \u001b[1;33m\u001b[0m\u001b[0m\n\u001b[0;32m     23\u001b[0m         \u001b[0mself\u001b[0m\u001b[1;33m.\u001b[0m\u001b[0mlot\u001b[0m\u001b[1;33m=\u001b[0m\u001b[0mlot\u001b[0m\u001b[1;33m\u001b[0m\u001b[1;33m\u001b[0m\u001b[0m\n",
      "\u001b[1;31mAttributeError\u001b[0m: 'trading_gold' object has no attribute 'login2'"
     ]
    }
   ],
   "source": [
    "f=trading_gold()"
   ]
  },
  {
   "cell_type": "code",
   "execution_count": 2,
   "metadata": {},
   "outputs": [],
   "source": [
    "\n",
    "import MT2 as mt2\n",
    "mt2.initialize(\"C:/Program Files/MetaTrader 5/terminal64.exe\")\n",
    "login=6060502348\n",
    "password=\"+cP4FbZf\"\n",
    "server=\"ArkGlobal-Server\"\n",
    "c=mt2.login(login, password, server)"
   ]
  },
  {
   "cell_type": "code",
   "execution_count": 3,
   "metadata": {},
   "outputs": [
    {
     "data": {
      "text/plain": [
       "True"
      ]
     },
     "execution_count": 3,
     "metadata": {},
     "output_type": "execute_result"
    }
   ],
   "source": [
    "c"
   ]
  },
  {
   "cell_type": "code",
   "execution_count": null,
   "metadata": {},
   "outputs": [],
   "source": []
  }
 ],
 "metadata": {
  "kernelspec": {
   "display_name": "base",
   "language": "python",
   "name": "python3"
  },
  "language_info": {
   "codemirror_mode": {
    "name": "ipython",
    "version": 3
   },
   "file_extension": ".py",
   "mimetype": "text/x-python",
   "name": "python",
   "nbconvert_exporter": "python",
   "pygments_lexer": "ipython3",
   "version": "3.6.8"
  },
  "orig_nbformat": 4
 },
 "nbformat": 4,
 "nbformat_minor": 2
}
